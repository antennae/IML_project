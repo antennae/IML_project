{
 "cells": [
  {
   "cell_type": "code",
   "execution_count": 62,
   "metadata": {},
   "outputs": [],
   "source": [
    "import numpy as np\n",
    "import pandas as pd\n",
    "import tensorflow as tf\n",
    "import keras\n",
    "import sklearn\n",
    "from sklearn import model_selection\n",
    "from keras.models import Sequential\n",
    "from keras.layers import Dense, Dropout, Activation, Flatten, BatchNormalization\n",
    "from keras import backend as K\n",
    "from sklearn.metrics import roc_auc_score, roc_curve, auc\n",
    "import matplotlib.pyplot as plt\n",
    "from sklearn.metrics import f1_score"
   ]
  },
  {
   "cell_type": "code",
   "execution_count": 63,
   "metadata": {},
   "outputs": [
    {
     "name": "stdout",
     "output_type": "stream",
     "text": [
      "[['DKWL' 0]\n",
      " ['FCHN' 0]\n",
      " ['KDQP' 0]\n",
      " ...\n",
      " ['SGHC' 0]\n",
      " ['KIGT' 0]\n",
      " ['PGPT' 0]]\n",
      "['DKWL' 'FCHN' 'KDQP' ... 'SGHC' 'KIGT' 'PGPT']\n",
      "(112000, 4)\n",
      "[[ 4. 11. 23. 12.]\n",
      " [ 6.  3.  8. 14.]\n",
      " [11.  4. 17. 16.]\n",
      " ...\n",
      " [19.  7.  8.  3.]\n",
      " [11.  9.  7. 20.]\n",
      " [16.  7. 16. 20.]]\n",
      "(112000,)\n"
     ]
    }
   ],
   "source": [
    "data_train_pd = pd.read_csv('train.csv')\n",
    "\n",
    "data_train = data_train_pd.values\n",
    "print(data_train)\n",
    "tmp = data_train[:,0]\n",
    "print(tmp)\n",
    "\n",
    "X = np.zeros([len(tmp),4])\n",
    "print(X.shape)\n",
    "\n",
    "for i in range(X.shape[0]):\n",
    "    for j in range(X.shape[1]):\n",
    "        X[i,j] = ord(tmp[i][j])-64\n",
    "\n",
    "print(X)        \n",
    "\n",
    "\n",
    "Y = data_train[:,1]\n",
    "print(Y.shape)"
   ]
  },
  {
   "cell_type": "code",
   "execution_count": 64,
   "metadata": {},
   "outputs": [],
   "source": [
    "def recall_m(y_true, y_pred):\n",
    "    true_positives = K.sum(K.round(K.clip(y_true * y_pred, 0, 1)))\n",
    "    possible_positives = K.sum(K.round(K.clip(y_true, 0, 1)))\n",
    "    recall = true_positives / (possible_positives + K.epsilon())\n",
    "    return recall\n",
    "\n",
    "def precision_m(y_true, y_pred):\n",
    "    true_positives = K.sum(K.round(K.clip(y_true * y_pred, 0, 1)))\n",
    "    predicted_positives = K.sum(K.round(K.clip(y_pred, 0, 1)))\n",
    "    precision = true_positives / (predicted_positives + K.epsilon())\n",
    "    return precision\n",
    "\n",
    "def f1_m(y_true, y_pred):\n",
    "    precision = precision_m(y_true, y_pred)\n",
    "    recall = recall_m(y_true, y_pred)\n",
    "    return 2*((precision*recall)/(precision+recall+K.epsilon()))"
   ]
  },
  {
   "cell_type": "code",
   "execution_count": 65,
   "metadata": {},
   "outputs": [
    {
     "name": "stdout",
     "output_type": "stream",
     "text": [
      "112000\n",
      "11200\n",
      "100800\n",
      "(100800, 4)\n",
      "(100800,)\n",
      "(11200,)\n"
     ]
    }
   ],
   "source": [
    "#np.random.seed(123)  # for reproducibility\n",
    "val_percent = 0.10\n",
    "\n",
    "print(X.shape[0])\n",
    "values = list(range(X.shape[0]))\n",
    "\n",
    "# np.random.shuffle(values)\n",
    "training_ind, val_ind = sklearn.model_selection.train_test_split(values, train_size=1-val_percent, test_size=val_percent)\n",
    "print(len(val_ind))\n",
    "print(len(training_ind))\n",
    "\n",
    "x_val = X[val_ind,:]\n",
    "x_train = X[training_ind,:]\n",
    "\n",
    "\n",
    "y_val = Y[val_ind]\n",
    "y_train = Y[training_ind]\n",
    "print(x_train.shape)\n",
    "print(y_train.shape)\n",
    "print(y_val.shape)\n"
   ]
  },
  {
   "cell_type": "code",
   "execution_count": 66,
   "metadata": {},
   "outputs": [
    {
     "name": "stdout",
     "output_type": "stream",
     "text": [
      "0.037896825396825394\n"
     ]
    }
   ],
   "source": [
    "custom_weight = sum(y_train)/len(y_train)\n",
    "print(custom_weight)\n",
    "\n",
    "\n",
    "from sklearn.utils import class_weight\n",
    "\n",
    "def weighted_bce(y_true, y_pred):\n",
    "    weights = (y_true * 30) + 1.\n",
    "    bce = K.binary_crossentropy(y_true, y_pred)\n",
    "    weighted_bce = K.mean(bce * weights)\n",
    "    return weighted_bce\n"
   ]
  },
  {
   "cell_type": "code",
   "execution_count": 67,
   "metadata": {},
   "outputs": [
    {
     "name": "stdout",
     "output_type": "stream",
     "text": [
      "(100800,)\n"
     ]
    }
   ],
   "source": [
    "# # prediction at the end\n",
    "# element = 0\n",
    "# prova = data[element,:,:]\n",
    "# prova_label_pred = np.zeros(15)\n",
    "\n",
    "weights = np.copy(y_train)\n",
    "weights[y_train == 1] = 1/custom_weight\n",
    "weights[y_train == 0] = 1\n",
    "print(weights.shape)"
   ]
  },
  {
   "cell_type": "code",
   "execution_count": 68,
   "metadata": {},
   "outputs": [
    {
     "name": "stdout",
     "output_type": "stream",
     "text": [
      "Train on 100800 samples, validate on 11200 samples\n",
      "Epoch 1/2\n",
      "100800/100800 [==============================] - 10s 104us/step - loss: 1.1598 - accuracy: 0.6514 - precision_m: 0.0766 - recall_m: 0.6057 - f1_m: 0.1300 - val_loss: 0.7249 - val_accuracy: 0.4613 - val_precision_m: 0.0554 - val_recall_m: 0.7202 - val_f1_m: 0.1008\n",
      "Epoch 2/2\n",
      "100800/100800 [==============================] - 10s 102us/step - loss: 1.1051 - accuracy: 0.6127 - precision_m: 0.0740 - recall_m: 0.6768 - f1_m: 0.1298 - val_loss: 0.5532 - val_accuracy: 0.6182 - val_precision_m: 0.0701 - val_recall_m: 0.6542 - val_f1_m: 0.1230\n",
      "Model: \"ANN\"\n",
      "_________________________________________________________________\n",
      "Layer (type)                 Output Shape              Param #   \n",
      "=================================================================\n",
      "dense_29 (Dense)             (None, 32)                160       \n",
      "_________________________________________________________________\n",
      "dense_30 (Dense)             (None, 100)               3300      \n",
      "_________________________________________________________________\n",
      "dropout_7 (Dropout)          (None, 100)               0         \n",
      "_________________________________________________________________\n",
      "dense_31 (Dense)             (None, 100)               10100     \n",
      "_________________________________________________________________\n",
      "dense_32 (Dense)             (None, 1)                 101       \n",
      "=================================================================\n",
      "Total params: 13,661\n",
      "Trainable params: 13,661\n",
      "Non-trainable params: 0\n",
      "_________________________________________________________________\n",
      "11200/11200 [==============================] - 1s 91us/step\n",
      "Test loss: 0.5531745937892368\n",
      "Test accuracy: 0.6182143092155457\n",
      "Test precision: 0.06922002881765366\n",
      "Test recall: 0.5247619152069092\n",
      "Test F1: 0.11910368502140045\n"
     ]
    }
   ],
   "source": [
    "batch_size = 50\n",
    "epochs = 2\n",
    "\n",
    "# Neural network\n",
    "# Define ANN architecture\n",
    "\n",
    "ANN = Sequential()\n",
    "ANN.name = \"ANN\"\n",
    "\n",
    "ANN.add(Dense(32, input_shape=(4,), activation='relu'))\n",
    "ANN.add(Dense(100, activation='relu')) \n",
    "# ANN.add(Dense(100, activation='relu'))\n",
    "# ANN.add(Dense(100, activation='relu'))\n",
    "# ANN.add(Dense(100, activation='relu'))\n",
    "# ANN.add(Dense(100, activation='relu'))\n",
    "# ANN.add(Dense(100, activation='relu'))\n",
    "#     ANN.add(Dense(100, activation='relu'))\n",
    "#     ANN.add(Dense(100, activation='relu'))\n",
    "ANN.add(Dropout(0.1))\n",
    "#     ANN.add(Dense(100, activation='relu'))\n",
    "#     ANN.add(Dense(100, activation='relu'))\n",
    "#     ANN.add(Dense(100, activation='relu'))\n",
    "#     ANN.add(Dense(100, activation='relu'))\n",
    "#     ANN.add(Dense(100, activation='relu'))\n",
    "#     ANN.add(Dense(100, activation='relu'))\n",
    "#     ANN.add(Dense(100, activation='relu'))\n",
    "#     ANN.add(Dense(100, activation='relu'))\n",
    "ANN.add(Dense(100, activation='relu'))\n",
    "ANN.add(Dense(1, activation='sigmoid'))\n",
    "\n",
    "\n",
    "#     class_custom_weight = class_weight.compute_class_weight('balanced', np.unique(y_train[:,i]), y_train[:,i])\n",
    "#     class_custom_weight = [1, 1000]\n",
    "# class_custom_weight = {0: 1, 1: (1-custom_weight[i])/custom_weight[i]}\n",
    "# print(class_custom_weight)\n",
    "\n",
    "ANN.compile(loss='binary_crossentropy',\n",
    "            optimizer='adam',\n",
    "            metrics=['accuracy', precision_m, recall_m, f1_m])\n",
    "\n",
    "weights = np.copy(y_train)\n",
    "weights[y_train == 1] = 1/custom_weight\n",
    "weights[y_train == 0] = 1\n",
    "        \n",
    "history = ANN.fit(x_train, y_train,\n",
    "                    batch_size=batch_size,\n",
    "                    epochs=epochs,\n",
    "                    sample_weight = weights,\n",
    "#                         shuffle=True,\n",
    "#                         class_weight = class_custom_weight,\n",
    "                    verbose=1,\n",
    "                    validation_data=(x_val, y_val))\n",
    "\n",
    "ANN.summary() \n",
    "score = ANN.evaluate(x_val, y_val, verbose=1)\n",
    "print('Test loss:', score[0])\n",
    "print('Test accuracy:', score[1])\n",
    "print('Test precision:', score[2])\n",
    "print('Test recall:', score[3])\n",
    "print('Test F1:', score[4])\n",
    "\n",
    "# y_predict[:,i] = np.squeeze(ANN.predict(x_val))\n",
    "# prova_label_pred[i] = ANN.predict(prova.reshape(1,12,70))"
   ]
  },
  {
   "cell_type": "code",
   "execution_count": 69,
   "metadata": {},
   "outputs": [
    {
     "name": "stdout",
     "output_type": "stream",
     "text": [
      "dict_keys(['val_loss', 'val_accuracy', 'val_precision_m', 'val_recall_m', 'val_f1_m', 'loss', 'accuracy', 'precision_m', 'recall_m', 'f1_m'])\n"
     ]
    },
    {
     "data": {
      "image/png": "[encoded data removed]",
      "text/plain": [
       "<Figure size 432x288 with 1 Axes>"
      ]
     },
     "metadata": {
      "needs_background": "light"
     },
     "output_type": "display_data"
    },
    {
     "data": {
      "image/png": "[encoded data removed]",
      "text/plain": [
       "<Figure size 432x288 with 1 Axes>"
      ]
     },
     "metadata": {
      "needs_background": "light"
     },
     "output_type": "display_data"
    },
    {
     "data": {
      "image/png": "[encoded data removed]",
      "text/plain": [
       "<Figure size 432x288 with 1 Axes>"
      ]
     },
     "metadata": {
      "needs_background": "light"
     },
     "output_type": "display_data"
    }
   ],
   "source": [
    "# list all data in history\n",
    "print(history.history.keys())\n",
    "# summarize history for accuracy\n",
    "plt.plot(history.history['accuracy'])\n",
    "plt.plot(history.history['val_accuracy'])\n",
    "plt.title('model accuracy')\n",
    "plt.ylabel('accuracy')\n",
    "plt.xlabel('epoch')\n",
    "plt.legend(['train', 'test'], loc='upper left')\n",
    "plt.show()\n",
    "# summarize history for loss\n",
    "plt.plot(history.history['loss'])\n",
    "plt.plot(history.history['val_loss'])\n",
    "plt.title('model loss')\n",
    "plt.ylabel('loss')\n",
    "plt.xlabel('epoch')\n",
    "plt.legend(['train', 'test'], loc='upper left')\n",
    "plt.show()\n",
    "# summarize history for f1\n",
    "plt.plot(history.history['f1_m'])\n",
    "plt.plot(history.history['val_f1_m'])\n",
    "plt.title('model F1 score')\n",
    "plt.ylabel('F1')\n",
    "plt.xlabel('epoch')\n",
    "plt.legend(['train', 'test'], loc='upper left')\n",
    "plt.show()"
   ]
  },
  {
   "cell_type": "code",
   "execution_count": 78,
   "metadata": {},
   "outputs": [
    {
     "name": "stdout",
     "output_type": "stream",
     "text": [
      "(11200, 1)\n",
      "(11200,)\n",
      "(11200,)\n"
     ]
    },
    {
     "ename": "ValueError",
     "evalue": "unknown format is not supported",
     "output_type": "error",
     "traceback": [
      "\u001b[1;31m---------------------------------------------------------------------------\u001b[0m",
      "\u001b[1;31mValueError\u001b[0m                                Traceback (most recent call last)",
      "\u001b[1;32m<ipython-input-78-f33006ea2342>\u001b[0m in \u001b[0;36m<module>\u001b[1;34m\u001b[0m\n\u001b[0;32m      6\u001b[0m \u001b[1;33m\u001b[0m\u001b[0m\n\u001b[0;32m      7\u001b[0m \u001b[1;33m\u001b[0m\u001b[0m\n\u001b[1;32m----> 8\u001b[1;33m \u001b[0mfpr\u001b[0m\u001b[1;33m,\u001b[0m \u001b[0mtpr\u001b[0m\u001b[1;33m,\u001b[0m \u001b[0mthresholds\u001b[0m \u001b[1;33m=\u001b[0m \u001b[0mroc_curve\u001b[0m\u001b[1;33m(\u001b[0m\u001b[0mnp\u001b[0m\u001b[1;33m.\u001b[0m\u001b[0msqueeze\u001b[0m\u001b[1;33m(\u001b[0m\u001b[0my_val\u001b[0m\u001b[1;33m)\u001b[0m\u001b[1;33m,\u001b[0m \u001b[0mnp\u001b[0m\u001b[1;33m.\u001b[0m\u001b[0msqueeze\u001b[0m\u001b[1;33m(\u001b[0m\u001b[0my_pred\u001b[0m\u001b[1;33m)\u001b[0m\u001b[1;33m)\u001b[0m\u001b[1;33m\u001b[0m\u001b[1;33m\u001b[0m\u001b[0m\n\u001b[0m\u001b[0;32m      9\u001b[0m \u001b[0mauc\u001b[0m \u001b[1;33m=\u001b[0m \u001b[0msklearn\u001b[0m\u001b[1;33m.\u001b[0m\u001b[0mmetrics\u001b[0m\u001b[1;33m.\u001b[0m\u001b[0mauc\u001b[0m\u001b[1;33m(\u001b[0m\u001b[0mfpr\u001b[0m\u001b[1;33m,\u001b[0m \u001b[0mtpr\u001b[0m\u001b[1;33m)\u001b[0m\u001b[1;33m\u001b[0m\u001b[1;33m\u001b[0m\u001b[0m\n\u001b[0;32m     10\u001b[0m \u001b[0mroc_auc_score\u001b[0m\u001b[1;33m(\u001b[0m\u001b[0my_val\u001b[0m\u001b[1;33m,\u001b[0m\u001b[0my_pred\u001b[0m\u001b[1;33m)\u001b[0m\u001b[1;33m\u001b[0m\u001b[1;33m\u001b[0m\u001b[0m\n",
      "\u001b[1;32m~\\Anaconda3\\envs\\Tensorflow_IML\\lib\\site-packages\\sklearn\\metrics\\_ranking.py\u001b[0m in \u001b[0;36mroc_curve\u001b[1;34m(y_true, y_score, pos_label, sample_weight, drop_intermediate)\u001b[0m\n\u001b[0;32m    769\u001b[0m     \"\"\"\n\u001b[0;32m    770\u001b[0m     fps, tps, thresholds = _binary_clf_curve(\n\u001b[1;32m--> 771\u001b[1;33m         y_true, y_score, pos_label=pos_label, sample_weight=sample_weight)\n\u001b[0m\u001b[0;32m    772\u001b[0m \u001b[1;33m\u001b[0m\u001b[0m\n\u001b[0;32m    773\u001b[0m     \u001b[1;31m# Attempt to drop thresholds corresponding to points in between and\u001b[0m\u001b[1;33m\u001b[0m\u001b[1;33m\u001b[0m\u001b[1;33m\u001b[0m\u001b[0m\n",
      "\u001b[1;32m~\\Anaconda3\\envs\\Tensorflow_IML\\lib\\site-packages\\sklearn\\metrics\\_ranking.py\u001b[0m in \u001b[0;36m_binary_clf_curve\u001b[1;34m(y_true, y_score, pos_label, sample_weight)\u001b[0m\n\u001b[0;32m    534\u001b[0m     if not (y_type == \"binary\" or\n\u001b[0;32m    535\u001b[0m             (y_type == \"multiclass\" and pos_label is not None)):\n\u001b[1;32m--> 536\u001b[1;33m         \u001b[1;32mraise\u001b[0m \u001b[0mValueError\u001b[0m\u001b[1;33m(\u001b[0m\u001b[1;34m\"{0} format is not supported\"\u001b[0m\u001b[1;33m.\u001b[0m\u001b[0mformat\u001b[0m\u001b[1;33m(\u001b[0m\u001b[0my_type\u001b[0m\u001b[1;33m)\u001b[0m\u001b[1;33m)\u001b[0m\u001b[1;33m\u001b[0m\u001b[1;33m\u001b[0m\u001b[0m\n\u001b[0m\u001b[0;32m    537\u001b[0m \u001b[1;33m\u001b[0m\u001b[0m\n\u001b[0;32m    538\u001b[0m     \u001b[0mcheck_consistent_length\u001b[0m\u001b[1;33m(\u001b[0m\u001b[0my_true\u001b[0m\u001b[1;33m,\u001b[0m \u001b[0my_score\u001b[0m\u001b[1;33m,\u001b[0m \u001b[0msample_weight\u001b[0m\u001b[1;33m)\u001b[0m\u001b[1;33m\u001b[0m\u001b[1;33m\u001b[0m\u001b[0m\n",
      "\u001b[1;31mValueError\u001b[0m: unknown format is not supported"
     ]
    }
   ],
   "source": [
    "y_pred = ANN.predict(x_val).reshape(len(val_ind),1)\n",
    "print((y_pred.shape))\n",
    "print((y_val.shape))\n",
    "a =y_val.reshape(len(val_ind),1)\n",
    "print(np.squeeze(y_pred).shape)\n",
    "\n",
    "\n",
    "fpr, tpr, thresholds = roc_curve(np.squeeze(y_val), np.squeeze(y_pred))\n",
    "auc = sklearn.metrics.auc(fpr, tpr)\n",
    "roc_auc_score(y_val,y_pred)\n",
    "plt.figure(1)\n",
    "plt.plot([0, 1], [0, 1], 'k--')\n",
    "plt.plot(fpr, tpr, label='Keras (area = {:.3f}) output = {}'.format(auc,i))\n",
    "plt.xlabel('False positive rate')\n",
    "plt.ylabel('True positive rate')\n",
    "plt.title('ROC curve')\n",
    "plt.legend(loc='best')\n",
    "plt.show()\n",
    "\n",
    "print(auc)    "
   ]
  }
 ],
 "metadata": {
  "kernelspec": {
   "display_name": "Tensorflow_IML",
   "language": "python",
   "name": "tensorflow_iml"
  },
  "language_info": {
   "codemirror_mode": {
    "name": "ipython",
    "version": 3
   },
   "file_extension": ".py",
   "mimetype": "text/x-python",
   "name": "python",
   "nbconvert_exporter": "python",
   "pygments_lexer": "ipython3",
   "version": "3.7.7"
  }
 },
 "nbformat": 4,
 "nbformat_minor": 4
}
